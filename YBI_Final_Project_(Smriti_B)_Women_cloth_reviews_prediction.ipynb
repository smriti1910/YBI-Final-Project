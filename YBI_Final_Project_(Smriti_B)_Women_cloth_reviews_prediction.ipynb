{
  "metadata": {
    "kernelspec": {
      "language": "python",
      "display_name": "Python 3",
      "name": "python3"
    },
    "language_info": {
      "name": "python",
      "version": "3.10.12",
      "mimetype": "text/x-python",
      "codemirror_mode": {
        "name": "ipython",
        "version": 3
      },
      "pygments_lexer": "ipython3",
      "nbconvert_exporter": "python",
      "file_extension": ".py"
    },
    "kaggle": {
      "accelerator": "none",
      "dataSources": [
        {
          "sourceId": 8644987,
          "sourceType": "datasetVersion",
          "datasetId": 5177589
        }
      ],
      "dockerImageVersionId": 30527,
      "isInternetEnabled": false,
      "language": "python",
      "sourceType": "notebook",
      "isGpuEnabled": false
    },
    "colab": {
      "provenance": [],
      "include_colab_link": true
    }
  },
  "nbformat_minor": 0,
  "nbformat": 4,
  "cells": [
    {
      "cell_type": "markdown",
      "metadata": {
        "id": "view-in-github",
        "colab_type": "text"
      },
      "source": [
        "<a href=\"https://colab.research.google.com/github/smriti1910/YBI-Final-Project/blob/main/YBI_Final_Project_(Smriti_B)_Women_cloth_reviews_prediction.ipynb\" target=\"_parent\"><img src=\"https://colab.research.google.com/assets/colab-badge.svg\" alt=\"Open In Colab\"/></a>"
      ]
    },
    {
      "cell_type": "markdown",
      "source": [
        "# Women Cloth Reviews Prediction with Multi Nomial Naïve Bayes\n",
        "---\n",
        "Multinomial Naïve Bayes algorithm is a probabilistic learning method that is mostly used in Natural Language Processing. It is also suitable for text classification with discrete feature. In this project it will be used to build a women cloth review prediction model.\n",
        "\n",
        "Data Source: [YBIFoundation/ProjectHub-MachineLearning Women Clothing Commerce Review dataset](https://raw.githubusercontent.com/YBIFoundation/ProjectHub-MachineLearning/main/Women%20Clothing%20E-Commerce%20Review.csv)"
      ],
      "metadata": {
        "id": "0JNwDz0lv6R1"
      }
    },
    {
      "cell_type": "markdown",
      "source": [
        "### Importing Libraries"
      ],
      "metadata": {
        "id": "TvDENIpMv6R2"
      }
    },
    {
      "cell_type": "code",
      "source": [
        "import pandas as pd\n",
        "import numpy as np\n",
        "import matplotlib.pyplot as plt\n",
        "import seaborn as sns"
      ],
      "metadata": {
        "_kg_hide-output": true,
        "_kg_hide-input": false,
        "execution": {
          "iopub.status.busy": "2024-06-09T06:42:55.403432Z",
          "iopub.execute_input": "2024-06-09T06:42:55.404936Z",
          "iopub.status.idle": "2024-06-09T06:42:55.411173Z",
          "shell.execute_reply.started": "2024-06-09T06:42:55.40489Z",
          "shell.execute_reply": "2024-06-09T06:42:55.40966Z"
        },
        "trusted": true,
        "id": "LB__j_RAv6R3"
      },
      "execution_count": 9,
      "outputs": []
    },
    {
      "cell_type": "code",
      "source": [],
      "metadata": {
        "id": "p0DER1-x0PDo"
      },
      "execution_count": null,
      "outputs": []
    },
    {
      "cell_type": "markdown",
      "source": [
        "### Importing Dataset"
      ],
      "metadata": {
        "id": "y-5_4muTv6R3"
      }
    },
    {
      "cell_type": "code",
      "source": [
        "df = pd.read_csv(\"/content/Clothdataset.csv\")"
      ],
      "metadata": {
        "execution": {
          "iopub.status.busy": "2024-06-09T06:42:55.413832Z",
          "iopub.execute_input": "2024-06-09T06:42:55.414635Z",
          "iopub.status.idle": "2024-06-09T06:42:55.692738Z",
          "shell.execute_reply.started": "2024-06-09T06:42:55.414587Z",
          "shell.execute_reply": "2024-06-09T06:42:55.691198Z"
        },
        "trusted": true,
        "id": "EQXJvax2v6R4"
      },
      "execution_count": 10,
      "outputs": []
    },
    {
      "cell_type": "markdown",
      "source": [
        "### Data visualization\n",
        "\n",
        "Samples of the data is visualized to better understand how it is structured."
      ],
      "metadata": {
        "id": "eVY_vDCiv6R4"
      }
    },
    {
      "cell_type": "code",
      "source": [
        "df.head()"
      ],
      "metadata": {
        "execution": {
          "iopub.status.busy": "2024-06-09T06:42:55.695655Z",
          "iopub.execute_input": "2024-06-09T06:42:55.696136Z",
          "iopub.status.idle": "2024-06-09T06:42:55.724571Z",
          "shell.execute_reply.started": "2024-06-09T06:42:55.696091Z",
          "shell.execute_reply": "2024-06-09T06:42:55.723345Z"
        },
        "trusted": true,
        "id": "JjpXlJqFv6R5",
        "colab": {
          "base_uri": "https://localhost:8080/",
          "height": 310
        },
        "outputId": "67bf14ee-7b07-44c0-dd0a-1aa8127c0d12"
      },
      "execution_count": 11,
      "outputs": [
        {
          "output_type": "execute_result",
          "data": {
            "text/plain": [
              "   Clothing ID  Age                    Title  \\\n",
              "0          767   33                      NaN   \n",
              "1         1080   34                      NaN   \n",
              "2         1077   60  Some major design flaws   \n",
              "3         1049   50         My favorite buy!   \n",
              "4          847   47         Flattering shirt   \n",
              "\n",
              "                                              Review  Rating  Recommended  \\\n",
              "0  Absolutely wonderful - silky and sexy and comf...       4            1   \n",
              "1  Love this dress!  it's sooo pretty.  i happene...       5            1   \n",
              "2  I had such high hopes for this dress and reall...       3            0   \n",
              "3  I love, love, love this jumpsuit. it's fun, fl...       5            1   \n",
              "4  This shirt is very flattering to all due to th...       5            1   \n",
              "\n",
              "   Positive Feedback        Division Department   Category  \n",
              "0                  0       Initmates   Intimate  Intimates  \n",
              "1                  4         General    Dresses    Dresses  \n",
              "2                  0         General    Dresses    Dresses  \n",
              "3                  0  General Petite    Bottoms      Pants  \n",
              "4                  6         General       Tops    Blouses  "
            ],
            "text/html": [
              "\n",
              "  <div id=\"df-142ce562-c839-4974-961e-ff308ad683d4\" class=\"colab-df-container\">\n",
              "    <div>\n",
              "<style scoped>\n",
              "    .dataframe tbody tr th:only-of-type {\n",
              "        vertical-align: middle;\n",
              "    }\n",
              "\n",
              "    .dataframe tbody tr th {\n",
              "        vertical-align: top;\n",
              "    }\n",
              "\n",
              "    .dataframe thead th {\n",
              "        text-align: right;\n",
              "    }\n",
              "</style>\n",
              "<table border=\"1\" class=\"dataframe\">\n",
              "  <thead>\n",
              "    <tr style=\"text-align: right;\">\n",
              "      <th></th>\n",
              "      <th>Clothing ID</th>\n",
              "      <th>Age</th>\n",
              "      <th>Title</th>\n",
              "      <th>Review</th>\n",
              "      <th>Rating</th>\n",
              "      <th>Recommended</th>\n",
              "      <th>Positive Feedback</th>\n",
              "      <th>Division</th>\n",
              "      <th>Department</th>\n",
              "      <th>Category</th>\n",
              "    </tr>\n",
              "  </thead>\n",
              "  <tbody>\n",
              "    <tr>\n",
              "      <th>0</th>\n",
              "      <td>767</td>\n",
              "      <td>33</td>\n",
              "      <td>NaN</td>\n",
              "      <td>Absolutely wonderful - silky and sexy and comf...</td>\n",
              "      <td>4</td>\n",
              "      <td>1</td>\n",
              "      <td>0</td>\n",
              "      <td>Initmates</td>\n",
              "      <td>Intimate</td>\n",
              "      <td>Intimates</td>\n",
              "    </tr>\n",
              "    <tr>\n",
              "      <th>1</th>\n",
              "      <td>1080</td>\n",
              "      <td>34</td>\n",
              "      <td>NaN</td>\n",
              "      <td>Love this dress!  it's sooo pretty.  i happene...</td>\n",
              "      <td>5</td>\n",
              "      <td>1</td>\n",
              "      <td>4</td>\n",
              "      <td>General</td>\n",
              "      <td>Dresses</td>\n",
              "      <td>Dresses</td>\n",
              "    </tr>\n",
              "    <tr>\n",
              "      <th>2</th>\n",
              "      <td>1077</td>\n",
              "      <td>60</td>\n",
              "      <td>Some major design flaws</td>\n",
              "      <td>I had such high hopes for this dress and reall...</td>\n",
              "      <td>3</td>\n",
              "      <td>0</td>\n",
              "      <td>0</td>\n",
              "      <td>General</td>\n",
              "      <td>Dresses</td>\n",
              "      <td>Dresses</td>\n",
              "    </tr>\n",
              "    <tr>\n",
              "      <th>3</th>\n",
              "      <td>1049</td>\n",
              "      <td>50</td>\n",
              "      <td>My favorite buy!</td>\n",
              "      <td>I love, love, love this jumpsuit. it's fun, fl...</td>\n",
              "      <td>5</td>\n",
              "      <td>1</td>\n",
              "      <td>0</td>\n",
              "      <td>General Petite</td>\n",
              "      <td>Bottoms</td>\n",
              "      <td>Pants</td>\n",
              "    </tr>\n",
              "    <tr>\n",
              "      <th>4</th>\n",
              "      <td>847</td>\n",
              "      <td>47</td>\n",
              "      <td>Flattering shirt</td>\n",
              "      <td>This shirt is very flattering to all due to th...</td>\n",
              "      <td>5</td>\n",
              "      <td>1</td>\n",
              "      <td>6</td>\n",
              "      <td>General</td>\n",
              "      <td>Tops</td>\n",
              "      <td>Blouses</td>\n",
              "    </tr>\n",
              "  </tbody>\n",
              "</table>\n",
              "</div>\n",
              "    <div class=\"colab-df-buttons\">\n",
              "\n",
              "  <div class=\"colab-df-container\">\n",
              "    <button class=\"colab-df-convert\" onclick=\"convertToInteractive('df-142ce562-c839-4974-961e-ff308ad683d4')\"\n",
              "            title=\"Convert this dataframe to an interactive table.\"\n",
              "            style=\"display:none;\">\n",
              "\n",
              "  <svg xmlns=\"http://www.w3.org/2000/svg\" height=\"24px\" viewBox=\"0 -960 960 960\">\n",
              "    <path d=\"M120-120v-720h720v720H120Zm60-500h600v-160H180v160Zm220 220h160v-160H400v160Zm0 220h160v-160H400v160ZM180-400h160v-160H180v160Zm440 0h160v-160H620v160ZM180-180h160v-160H180v160Zm440 0h160v-160H620v160Z\"/>\n",
              "  </svg>\n",
              "    </button>\n",
              "\n",
              "  <style>\n",
              "    .colab-df-container {\n",
              "      display:flex;\n",
              "      gap: 12px;\n",
              "    }\n",
              "\n",
              "    .colab-df-convert {\n",
              "      background-color: #E8F0FE;\n",
              "      border: none;\n",
              "      border-radius: 50%;\n",
              "      cursor: pointer;\n",
              "      display: none;\n",
              "      fill: #1967D2;\n",
              "      height: 32px;\n",
              "      padding: 0 0 0 0;\n",
              "      width: 32px;\n",
              "    }\n",
              "\n",
              "    .colab-df-convert:hover {\n",
              "      background-color: #E2EBFA;\n",
              "      box-shadow: 0px 1px 2px rgba(60, 64, 67, 0.3), 0px 1px 3px 1px rgba(60, 64, 67, 0.15);\n",
              "      fill: #174EA6;\n",
              "    }\n",
              "\n",
              "    .colab-df-buttons div {\n",
              "      margin-bottom: 4px;\n",
              "    }\n",
              "\n",
              "    [theme=dark] .colab-df-convert {\n",
              "      background-color: #3B4455;\n",
              "      fill: #D2E3FC;\n",
              "    }\n",
              "\n",
              "    [theme=dark] .colab-df-convert:hover {\n",
              "      background-color: #434B5C;\n",
              "      box-shadow: 0px 1px 3px 1px rgba(0, 0, 0, 0.15);\n",
              "      filter: drop-shadow(0px 1px 2px rgba(0, 0, 0, 0.3));\n",
              "      fill: #FFFFFF;\n",
              "    }\n",
              "  </style>\n",
              "\n",
              "    <script>\n",
              "      const buttonEl =\n",
              "        document.querySelector('#df-142ce562-c839-4974-961e-ff308ad683d4 button.colab-df-convert');\n",
              "      buttonEl.style.display =\n",
              "        google.colab.kernel.accessAllowed ? 'block' : 'none';\n",
              "\n",
              "      async function convertToInteractive(key) {\n",
              "        const element = document.querySelector('#df-142ce562-c839-4974-961e-ff308ad683d4');\n",
              "        const dataTable =\n",
              "          await google.colab.kernel.invokeFunction('convertToInteractive',\n",
              "                                                    [key], {});\n",
              "        if (!dataTable) return;\n",
              "\n",
              "        const docLinkHtml = 'Like what you see? Visit the ' +\n",
              "          '<a target=\"_blank\" href=https://colab.research.google.com/notebooks/data_table.ipynb>data table notebook</a>'\n",
              "          + ' to learn more about interactive tables.';\n",
              "        element.innerHTML = '';\n",
              "        dataTable['output_type'] = 'display_data';\n",
              "        await google.colab.output.renderOutput(dataTable, element);\n",
              "        const docLink = document.createElement('div');\n",
              "        docLink.innerHTML = docLinkHtml;\n",
              "        element.appendChild(docLink);\n",
              "      }\n",
              "    </script>\n",
              "  </div>\n",
              "\n",
              "\n",
              "<div id=\"df-e9c9b775-4ef6-4a77-b169-ef9bbfdcd61b\">\n",
              "  <button class=\"colab-df-quickchart\" onclick=\"quickchart('df-e9c9b775-4ef6-4a77-b169-ef9bbfdcd61b')\"\n",
              "            title=\"Suggest charts\"\n",
              "            style=\"display:none;\">\n",
              "\n",
              "<svg xmlns=\"http://www.w3.org/2000/svg\" height=\"24px\"viewBox=\"0 0 24 24\"\n",
              "     width=\"24px\">\n",
              "    <g>\n",
              "        <path d=\"M19 3H5c-1.1 0-2 .9-2 2v14c0 1.1.9 2 2 2h14c1.1 0 2-.9 2-2V5c0-1.1-.9-2-2-2zM9 17H7v-7h2v7zm4 0h-2V7h2v10zm4 0h-2v-4h2v4z\"/>\n",
              "    </g>\n",
              "</svg>\n",
              "  </button>\n",
              "\n",
              "<style>\n",
              "  .colab-df-quickchart {\n",
              "      --bg-color: #E8F0FE;\n",
              "      --fill-color: #1967D2;\n",
              "      --hover-bg-color: #E2EBFA;\n",
              "      --hover-fill-color: #174EA6;\n",
              "      --disabled-fill-color: #AAA;\n",
              "      --disabled-bg-color: #DDD;\n",
              "  }\n",
              "\n",
              "  [theme=dark] .colab-df-quickchart {\n",
              "      --bg-color: #3B4455;\n",
              "      --fill-color: #D2E3FC;\n",
              "      --hover-bg-color: #434B5C;\n",
              "      --hover-fill-color: #FFFFFF;\n",
              "      --disabled-bg-color: #3B4455;\n",
              "      --disabled-fill-color: #666;\n",
              "  }\n",
              "\n",
              "  .colab-df-quickchart {\n",
              "    background-color: var(--bg-color);\n",
              "    border: none;\n",
              "    border-radius: 50%;\n",
              "    cursor: pointer;\n",
              "    display: none;\n",
              "    fill: var(--fill-color);\n",
              "    height: 32px;\n",
              "    padding: 0;\n",
              "    width: 32px;\n",
              "  }\n",
              "\n",
              "  .colab-df-quickchart:hover {\n",
              "    background-color: var(--hover-bg-color);\n",
              "    box-shadow: 0 1px 2px rgba(60, 64, 67, 0.3), 0 1px 3px 1px rgba(60, 64, 67, 0.15);\n",
              "    fill: var(--button-hover-fill-color);\n",
              "  }\n",
              "\n",
              "  .colab-df-quickchart-complete:disabled,\n",
              "  .colab-df-quickchart-complete:disabled:hover {\n",
              "    background-color: var(--disabled-bg-color);\n",
              "    fill: var(--disabled-fill-color);\n",
              "    box-shadow: none;\n",
              "  }\n",
              "\n",
              "  .colab-df-spinner {\n",
              "    border: 2px solid var(--fill-color);\n",
              "    border-color: transparent;\n",
              "    border-bottom-color: var(--fill-color);\n",
              "    animation:\n",
              "      spin 1s steps(1) infinite;\n",
              "  }\n",
              "\n",
              "  @keyframes spin {\n",
              "    0% {\n",
              "      border-color: transparent;\n",
              "      border-bottom-color: var(--fill-color);\n",
              "      border-left-color: var(--fill-color);\n",
              "    }\n",
              "    20% {\n",
              "      border-color: transparent;\n",
              "      border-left-color: var(--fill-color);\n",
              "      border-top-color: var(--fill-color);\n",
              "    }\n",
              "    30% {\n",
              "      border-color: transparent;\n",
              "      border-left-color: var(--fill-color);\n",
              "      border-top-color: var(--fill-color);\n",
              "      border-right-color: var(--fill-color);\n",
              "    }\n",
              "    40% {\n",
              "      border-color: transparent;\n",
              "      border-right-color: var(--fill-color);\n",
              "      border-top-color: var(--fill-color);\n",
              "    }\n",
              "    60% {\n",
              "      border-color: transparent;\n",
              "      border-right-color: var(--fill-color);\n",
              "    }\n",
              "    80% {\n",
              "      border-color: transparent;\n",
              "      border-right-color: var(--fill-color);\n",
              "      border-bottom-color: var(--fill-color);\n",
              "    }\n",
              "    90% {\n",
              "      border-color: transparent;\n",
              "      border-bottom-color: var(--fill-color);\n",
              "    }\n",
              "  }\n",
              "</style>\n",
              "\n",
              "  <script>\n",
              "    async function quickchart(key) {\n",
              "      const quickchartButtonEl =\n",
              "        document.querySelector('#' + key + ' button');\n",
              "      quickchartButtonEl.disabled = true;  // To prevent multiple clicks.\n",
              "      quickchartButtonEl.classList.add('colab-df-spinner');\n",
              "      try {\n",
              "        const charts = await google.colab.kernel.invokeFunction(\n",
              "            'suggestCharts', [key], {});\n",
              "      } catch (error) {\n",
              "        console.error('Error during call to suggestCharts:', error);\n",
              "      }\n",
              "      quickchartButtonEl.classList.remove('colab-df-spinner');\n",
              "      quickchartButtonEl.classList.add('colab-df-quickchart-complete');\n",
              "    }\n",
              "    (() => {\n",
              "      let quickchartButtonEl =\n",
              "        document.querySelector('#df-e9c9b775-4ef6-4a77-b169-ef9bbfdcd61b button');\n",
              "      quickchartButtonEl.style.display =\n",
              "        google.colab.kernel.accessAllowed ? 'block' : 'none';\n",
              "    })();\n",
              "  </script>\n",
              "</div>\n",
              "\n",
              "    </div>\n",
              "  </div>\n"
            ],
            "application/vnd.google.colaboratory.intrinsic+json": {
              "type": "dataframe",
              "variable_name": "df",
              "summary": "{\n  \"name\": \"df\",\n  \"rows\": 23486,\n  \"fields\": [\n    {\n      \"column\": \"Clothing ID\",\n      \"properties\": {\n        \"dtype\": \"number\",\n        \"std\": 203,\n        \"min\": 0,\n        \"max\": 1205,\n        \"num_unique_values\": 1206,\n        \"samples\": [\n          835,\n          753,\n          93\n        ],\n        \"semantic_type\": \"\",\n        \"description\": \"\"\n      }\n    },\n    {\n      \"column\": \"Age\",\n      \"properties\": {\n        \"dtype\": \"number\",\n        \"std\": 12,\n        \"min\": 18,\n        \"max\": 99,\n        \"num_unique_values\": 77,\n        \"samples\": [\n          47,\n          62,\n          41\n        ],\n        \"semantic_type\": \"\",\n        \"description\": \"\"\n      }\n    },\n    {\n      \"column\": \"Title\",\n      \"properties\": {\n        \"dtype\": \"string\",\n        \"num_unique_values\": 13993,\n        \"samples\": [\n          \"Colorful, pretty shirt\",\n          \"Unique soft and comfy fall top\",\n          \"Great fitting jean.\"\n        ],\n        \"semantic_type\": \"\",\n        \"description\": \"\"\n      }\n    },\n    {\n      \"column\": \"Review\",\n      \"properties\": {\n        \"dtype\": \"string\",\n        \"num_unique_values\": 22634,\n        \"samples\": [\n          \"This top is really pretty and nice quality. runs big - i went down a size, and its perfect. coloring is more subtle in person than in the photo.\",\n          \"I was so excited to splurge on a mara hoffman suit and was sorely disappointed when i received this suit in the mail. i'm petite and fairly curvy, so i knew it would likely be a little long in the torso but the whole suit was so oddly shaped, i couldn't imagine anyone it would fit. the square shape in between the halter pieces is awkward, and the pieces that are supposed to hold your chest are super wide and loose.\",\n          \"Got so many complements! really comfy but runs big! i'm usually a large and i wish i had gotten the small.\"\n        ],\n        \"semantic_type\": \"\",\n        \"description\": \"\"\n      }\n    },\n    {\n      \"column\": \"Rating\",\n      \"properties\": {\n        \"dtype\": \"number\",\n        \"std\": 1,\n        \"min\": 1,\n        \"max\": 5,\n        \"num_unique_values\": 5,\n        \"samples\": [\n          5,\n          1,\n          3\n        ],\n        \"semantic_type\": \"\",\n        \"description\": \"\"\n      }\n    },\n    {\n      \"column\": \"Recommended\",\n      \"properties\": {\n        \"dtype\": \"number\",\n        \"std\": 0,\n        \"min\": 0,\n        \"max\": 1,\n        \"num_unique_values\": 2,\n        \"samples\": [\n          0,\n          1\n        ],\n        \"semantic_type\": \"\",\n        \"description\": \"\"\n      }\n    },\n    {\n      \"column\": \"Positive Feedback\",\n      \"properties\": {\n        \"dtype\": \"number\",\n        \"std\": 5,\n        \"min\": 0,\n        \"max\": 122,\n        \"num_unique_values\": 82,\n        \"samples\": [\n          21,\n          0\n        ],\n        \"semantic_type\": \"\",\n        \"description\": \"\"\n      }\n    },\n    {\n      \"column\": \"Division\",\n      \"properties\": {\n        \"dtype\": \"category\",\n        \"num_unique_values\": 3,\n        \"samples\": [\n          \"Initmates\",\n          \"General\"\n        ],\n        \"semantic_type\": \"\",\n        \"description\": \"\"\n      }\n    },\n    {\n      \"column\": \"Department\",\n      \"properties\": {\n        \"dtype\": \"category\",\n        \"num_unique_values\": 6,\n        \"samples\": [\n          \"Intimate\",\n          \"Dresses\"\n        ],\n        \"semantic_type\": \"\",\n        \"description\": \"\"\n      }\n    },\n    {\n      \"column\": \"Category\",\n      \"properties\": {\n        \"dtype\": \"category\",\n        \"num_unique_values\": 20,\n        \"samples\": [\n          \"Intimates\",\n          \"Layering\"\n        ],\n        \"semantic_type\": \"\",\n        \"description\": \"\"\n      }\n    }\n  ]\n}"
            }
          },
          "metadata": {},
          "execution_count": 11
        }
      ]
    },
    {
      "cell_type": "code",
      "source": [
        "df.info()"
      ],
      "metadata": {
        "execution": {
          "iopub.status.busy": "2024-06-09T06:42:55.728549Z",
          "iopub.execute_input": "2024-06-09T06:42:55.729194Z",
          "iopub.status.idle": "2024-06-09T06:42:55.802691Z",
          "shell.execute_reply.started": "2024-06-09T06:42:55.729156Z",
          "shell.execute_reply": "2024-06-09T06:42:55.801473Z"
        },
        "trusted": true,
        "id": "gkof30HZv6R5",
        "colab": {
          "base_uri": "https://localhost:8080/"
        },
        "outputId": "c56d5ab0-2f0f-4e4b-d7cc-6271f95ad453"
      },
      "execution_count": 12,
      "outputs": [
        {
          "output_type": "stream",
          "name": "stdout",
          "text": [
            "<class 'pandas.core.frame.DataFrame'>\n",
            "RangeIndex: 23486 entries, 0 to 23485\n",
            "Data columns (total 10 columns):\n",
            " #   Column             Non-Null Count  Dtype \n",
            "---  ------             --------------  ----- \n",
            " 0   Clothing ID        23486 non-null  int64 \n",
            " 1   Age                23486 non-null  int64 \n",
            " 2   Title              19676 non-null  object\n",
            " 3   Review             22641 non-null  object\n",
            " 4   Rating             23486 non-null  int64 \n",
            " 5   Recommended        23486 non-null  int64 \n",
            " 6   Positive Feedback  23486 non-null  int64 \n",
            " 7   Division           23472 non-null  object\n",
            " 8   Department         23472 non-null  object\n",
            " 9   Category           23472 non-null  object\n",
            "dtypes: int64(5), object(5)\n",
            "memory usage: 1.8+ MB\n"
          ]
        }
      ]
    },
    {
      "cell_type": "code",
      "source": [
        "df.shape"
      ],
      "metadata": {
        "execution": {
          "iopub.status.busy": "2024-06-09T06:42:55.804131Z",
          "iopub.execute_input": "2024-06-09T06:42:55.804481Z",
          "iopub.status.idle": "2024-06-09T06:42:55.81215Z",
          "shell.execute_reply.started": "2024-06-09T06:42:55.80445Z",
          "shell.execute_reply": "2024-06-09T06:42:55.810763Z"
        },
        "trusted": true,
        "id": "1JEc2O4vv6R6",
        "colab": {
          "base_uri": "https://localhost:8080/"
        },
        "outputId": "a22e6869-70c1-4698-b293-dd99ec87bfb6"
      },
      "execution_count": 13,
      "outputs": [
        {
          "output_type": "execute_result",
          "data": {
            "text/plain": [
              "(23486, 10)"
            ]
          },
          "metadata": {},
          "execution_count": 13
        }
      ]
    },
    {
      "cell_type": "markdown",
      "source": [
        "### Data preprocessing\n",
        "\n",
        "Calling `isna()` method along with the `sum()` method on dataframe `df` to find the Review columns with no review text for further processing."
      ],
      "metadata": {
        "id": "QaMyEkZov6R6"
      }
    },
    {
      "cell_type": "code",
      "source": [
        "df.isna().sum()"
      ],
      "metadata": {
        "execution": {
          "iopub.status.busy": "2024-06-09T06:42:55.814147Z",
          "iopub.execute_input": "2024-06-09T06:42:55.81494Z",
          "iopub.status.idle": "2024-06-09T06:42:55.865631Z",
          "shell.execute_reply.started": "2024-06-09T06:42:55.814907Z",
          "shell.execute_reply": "2024-06-09T06:42:55.864059Z"
        },
        "trusted": true,
        "id": "Be_ks2ouv6R6",
        "colab": {
          "base_uri": "https://localhost:8080/"
        },
        "outputId": "ef4b37d8-f10d-4670-89b9-c164bfb73bc8"
      },
      "execution_count": 14,
      "outputs": [
        {
          "output_type": "execute_result",
          "data": {
            "text/plain": [
              "Clothing ID             0\n",
              "Age                     0\n",
              "Title                3810\n",
              "Review                845\n",
              "Rating                  0\n",
              "Recommended             0\n",
              "Positive Feedback       0\n",
              "Division               14\n",
              "Department             14\n",
              "Category               14\n",
              "dtype: int64"
            ]
          },
          "metadata": {},
          "execution_count": 14
        }
      ]
    },
    {
      "cell_type": "markdown",
      "source": [
        "Filling missing values in the Review column with the value `No review is given`."
      ],
      "metadata": {
        "id": "u40jLBauv6R6"
      }
    },
    {
      "cell_type": "code",
      "source": [
        "df[df['Review']==\"\"] = np.NaN\n",
        "df['Review'].fillna(\"No review is given\", inplace=True)\n",
        "df.isna().sum()"
      ],
      "metadata": {
        "execution": {
          "iopub.status.busy": "2024-06-09T06:42:55.868619Z",
          "iopub.execute_input": "2024-06-09T06:42:55.869079Z",
          "iopub.status.idle": "2024-06-09T06:42:55.935797Z",
          "shell.execute_reply.started": "2024-06-09T06:42:55.869036Z",
          "shell.execute_reply": "2024-06-09T06:42:55.934647Z"
        },
        "trusted": true,
        "id": "pD1oI0HUv6R7",
        "colab": {
          "base_uri": "https://localhost:8080/"
        },
        "outputId": "d8436173-c0f8-46ad-a0ac-4a01de25907e"
      },
      "execution_count": 15,
      "outputs": [
        {
          "output_type": "execute_result",
          "data": {
            "text/plain": [
              "Clothing ID             0\n",
              "Age                     0\n",
              "Title                3810\n",
              "Review                  0\n",
              "Rating                  0\n",
              "Recommended             0\n",
              "Positive Feedback       0\n",
              "Division               14\n",
              "Department             14\n",
              "Category               14\n",
              "dtype: int64"
            ]
          },
          "metadata": {},
          "execution_count": 15
        }
      ]
    },
    {
      "cell_type": "code",
      "source": [
        "df['Review']"
      ],
      "metadata": {
        "execution": {
          "iopub.status.busy": "2024-06-09T06:42:55.937182Z",
          "iopub.execute_input": "2024-06-09T06:42:55.93752Z",
          "iopub.status.idle": "2024-06-09T06:42:55.947992Z",
          "shell.execute_reply.started": "2024-06-09T06:42:55.937492Z",
          "shell.execute_reply": "2024-06-09T06:42:55.946358Z"
        },
        "trusted": true,
        "id": "dTZ4XadNv6R7",
        "colab": {
          "base_uri": "https://localhost:8080/"
        },
        "outputId": "985e3d60-5c40-415f-8715-ae4c7da2a351"
      },
      "execution_count": 16,
      "outputs": [
        {
          "output_type": "execute_result",
          "data": {
            "text/plain": [
              "0        Absolutely wonderful - silky and sexy and comf...\n",
              "1        Love this dress!  it's sooo pretty.  i happene...\n",
              "2        I had such high hopes for this dress and reall...\n",
              "3        I love, love, love this jumpsuit. it's fun, fl...\n",
              "4        This shirt is very flattering to all due to th...\n",
              "                               ...                        \n",
              "23481    I was very happy to snag this dress at such a ...\n",
              "23482    It reminds me of maternity clothes. soft, stre...\n",
              "23483    This fit well, but the top was very see throug...\n",
              "23484    I bought this dress for a wedding i have this ...\n",
              "23485    This dress in a lovely platinum is feminine an...\n",
              "Name: Review, Length: 23486, dtype: object"
            ]
          },
          "metadata": {},
          "execution_count": 16
        }
      ]
    },
    {
      "cell_type": "markdown",
      "source": [
        "### Defining Target Variable (y) and Feature Variables (X)"
      ],
      "metadata": {
        "id": "9hhqRKSgv6R7"
      }
    },
    {
      "cell_type": "code",
      "source": [
        "df.columns"
      ],
      "metadata": {
        "execution": {
          "iopub.status.busy": "2024-06-09T06:42:55.949532Z",
          "iopub.execute_input": "2024-06-09T06:42:55.949958Z",
          "iopub.status.idle": "2024-06-09T06:42:55.961591Z",
          "shell.execute_reply.started": "2024-06-09T06:42:55.949925Z",
          "shell.execute_reply": "2024-06-09T06:42:55.960331Z"
        },
        "trusted": true,
        "id": "DaYgi15cv6R7",
        "colab": {
          "base_uri": "https://localhost:8080/"
        },
        "outputId": "b2c7d277-3a1e-4fcb-a03a-d1e513bcaa3c"
      },
      "execution_count": 17,
      "outputs": [
        {
          "output_type": "execute_result",
          "data": {
            "text/plain": [
              "Index(['Clothing ID', 'Age', 'Title', 'Review', 'Rating', 'Recommended',\n",
              "       'Positive Feedback', 'Division', 'Department', 'Category'],\n",
              "      dtype='object')"
            ]
          },
          "metadata": {},
          "execution_count": 17
        }
      ]
    },
    {
      "cell_type": "code",
      "source": [
        "x = df['Review']\n",
        "y = df['Rating']\n",
        "df['Rating'].value_counts()"
      ],
      "metadata": {
        "execution": {
          "iopub.status.busy": "2024-06-09T06:42:55.968453Z",
          "iopub.execute_input": "2024-06-09T06:42:55.968992Z",
          "iopub.status.idle": "2024-06-09T06:42:55.982845Z",
          "shell.execute_reply.started": "2024-06-09T06:42:55.968951Z",
          "shell.execute_reply": "2024-06-09T06:42:55.98143Z"
        },
        "trusted": true,
        "id": "GBf2EY_Xv6R7",
        "colab": {
          "base_uri": "https://localhost:8080/"
        },
        "outputId": "465df3a3-9a2c-4676-8664-5fab66666828"
      },
      "execution_count": 18,
      "outputs": [
        {
          "output_type": "execute_result",
          "data": {
            "text/plain": [
              "Rating\n",
              "5    13131\n",
              "4     5077\n",
              "3     2871\n",
              "2     1565\n",
              "1      842\n",
              "Name: count, dtype: int64"
            ]
          },
          "metadata": {},
          "execution_count": 18
        }
      ]
    },
    {
      "cell_type": "markdown",
      "source": [
        "### Train Test Split"
      ],
      "metadata": {
        "id": "E5ZTbWw1v6R7"
      }
    },
    {
      "cell_type": "code",
      "source": [
        "from sklearn.model_selection import train_test_split\n",
        "\n",
        "x_train, x_test, y_train, y_test = train_test_split(x, y, train_size=0.7, stratify=y, random_state=2529)\n",
        "x_train.shape, x_test.shape, y_train.shape, y_test.shape"
      ],
      "metadata": {
        "execution": {
          "iopub.status.busy": "2024-06-09T06:42:55.984928Z",
          "iopub.execute_input": "2024-06-09T06:42:55.985449Z",
          "iopub.status.idle": "2024-06-09T06:42:56.206465Z",
          "shell.execute_reply.started": "2024-06-09T06:42:55.985404Z",
          "shell.execute_reply": "2024-06-09T06:42:56.205164Z"
        },
        "trusted": true,
        "id": "RLNyQG7Yv6R8",
        "colab": {
          "base_uri": "https://localhost:8080/"
        },
        "outputId": "f69efdb1-0fd4-4cf7-d353-e6c7f7a89ee3"
      },
      "execution_count": 19,
      "outputs": [
        {
          "output_type": "execute_result",
          "data": {
            "text/plain": [
              "((16440,), (7046,), (16440,), (7046,))"
            ]
          },
          "metadata": {},
          "execution_count": 19
        }
      ]
    },
    {
      "cell_type": "markdown",
      "source": [
        "### Getting Tokens from Feature Text\n",
        "\n",
        "Using `CountVectorizer` from sci-kit learn"
      ],
      "metadata": {
        "id": "bdCQbVvkv6R8"
      }
    },
    {
      "cell_type": "code",
      "source": [
        "from sklearn.feature_extraction.text import CountVectorizer\n",
        "\n",
        "cv = CountVectorizer(lowercase=True, analyzer='word', ngram_range=(2, 3), stop_words='english', max_features=50000)\n",
        "x_train = cv.fit_transform(x_train)\n",
        "cv.get_feature_names_out()"
      ],
      "metadata": {
        "execution": {
          "iopub.status.busy": "2024-06-09T06:42:56.208135Z",
          "iopub.execute_input": "2024-06-09T06:42:56.2088Z",
          "iopub.status.idle": "2024-06-09T06:43:00.475844Z",
          "shell.execute_reply.started": "2024-06-09T06:42:56.208755Z",
          "shell.execute_reply": "2024-06-09T06:43:00.474647Z"
        },
        "trusted": true,
        "id": "cv4VhkeZv6R8",
        "colab": {
          "base_uri": "https://localhost:8080/"
        },
        "outputId": "677f6040-7b4e-49c7-e9dc-89a6fa0ebe7d"
      },
      "execution_count": 20,
      "outputs": [
        {
          "output_type": "execute_result",
          "data": {
            "text/plain": [
              "array(['00 big', '00 fits', '00 petite', ..., 'zipper zip',\n",
              "       'zippered pockets', 'zippers buttons'], dtype=object)"
            ]
          },
          "metadata": {},
          "execution_count": 20
        }
      ]
    },
    {
      "cell_type": "code",
      "source": [
        "x_train.toarray()"
      ],
      "metadata": {
        "execution": {
          "iopub.status.busy": "2024-06-09T06:43:00.477279Z",
          "iopub.execute_input": "2024-06-09T06:43:00.477659Z",
          "iopub.status.idle": "2024-06-09T06:43:01.083406Z",
          "shell.execute_reply.started": "2024-06-09T06:43:00.477629Z",
          "shell.execute_reply": "2024-06-09T06:43:01.082311Z"
        },
        "trusted": true,
        "id": "1OW2b3xEv6R8",
        "colab": {
          "base_uri": "https://localhost:8080/"
        },
        "outputId": "a2528d07-ebdb-4e4e-eb30-7a2bee96bad5"
      },
      "execution_count": 21,
      "outputs": [
        {
          "output_type": "execute_result",
          "data": {
            "text/plain": [
              "array([[0, 0, 0, ..., 0, 0, 0],\n",
              "       [0, 0, 0, ..., 0, 0, 0],\n",
              "       [0, 0, 0, ..., 0, 0, 0],\n",
              "       ...,\n",
              "       [0, 0, 0, ..., 0, 0, 0],\n",
              "       [0, 0, 0, ..., 0, 0, 0],\n",
              "       [0, 0, 0, ..., 0, 0, 0]])"
            ]
          },
          "metadata": {},
          "execution_count": 21
        }
      ]
    },
    {
      "cell_type": "code",
      "source": [
        "x_test = cv.fit_transform(x_test)\n",
        "cv.get_feature_names_out()"
      ],
      "metadata": {
        "execution": {
          "iopub.status.busy": "2024-06-09T06:43:01.084879Z",
          "iopub.execute_input": "2024-06-09T06:43:01.085229Z",
          "iopub.status.idle": "2024-06-09T06:43:03.014863Z",
          "shell.execute_reply.started": "2024-06-09T06:43:01.085196Z",
          "shell.execute_reply": "2024-06-09T06:43:03.013656Z"
        },
        "trusted": true,
        "id": "KoorJqN1v6R8",
        "colab": {
          "base_uri": "https://localhost:8080/"
        },
        "outputId": "02d13c3f-00ab-4646-9993-c28d1d5a44ba"
      },
      "execution_count": 22,
      "outputs": [
        {
          "output_type": "execute_result",
          "data": {
            "text/plain": [
              "array(['00 24', '00 petite', '00 sold', ..., 'zipper split',\n",
              "       'zipper sturdy', 'zippers buttons'], dtype=object)"
            ]
          },
          "metadata": {},
          "execution_count": 22
        }
      ]
    },
    {
      "cell_type": "code",
      "source": [
        "x_test.toarray()"
      ],
      "metadata": {
        "execution": {
          "iopub.status.busy": "2024-06-09T06:43:03.016666Z",
          "iopub.execute_input": "2024-06-09T06:43:03.017013Z",
          "iopub.status.idle": "2024-06-09T06:43:03.272312Z",
          "shell.execute_reply.started": "2024-06-09T06:43:03.016983Z",
          "shell.execute_reply": "2024-06-09T06:43:03.271091Z"
        },
        "trusted": true,
        "id": "U1WUliqav6R8",
        "colab": {
          "base_uri": "https://localhost:8080/"
        },
        "outputId": "1ec1ed9c-20fd-4316-dd2d-3a7425b15727"
      },
      "execution_count": 23,
      "outputs": [
        {
          "output_type": "execute_result",
          "data": {
            "text/plain": [
              "array([[0, 0, 0, ..., 0, 0, 0],\n",
              "       [0, 0, 0, ..., 0, 0, 0],\n",
              "       [0, 0, 0, ..., 0, 0, 0],\n",
              "       ...,\n",
              "       [0, 0, 0, ..., 0, 0, 0],\n",
              "       [0, 0, 0, ..., 0, 0, 0],\n",
              "       [0, 0, 0, ..., 0, 0, 0]])"
            ]
          },
          "metadata": {},
          "execution_count": 23
        }
      ]
    },
    {
      "cell_type": "markdown",
      "source": [
        "### Model training\n",
        "\n",
        "Using Multinomial Naïve Bayes algorithm, which is implemented in sci-kit as `MultinomialNB`"
      ],
      "metadata": {
        "id": "PWXioiuDv6R8"
      }
    },
    {
      "cell_type": "code",
      "source": [
        "from sklearn.naive_bayes import MultinomialNB\n",
        "\n",
        "model = MultinomialNB()\n",
        "model.fit(x_train, y_train)"
      ],
      "metadata": {
        "execution": {
          "iopub.status.busy": "2024-06-09T06:43:03.273806Z",
          "iopub.execute_input": "2024-06-09T06:43:03.274162Z",
          "iopub.status.idle": "2024-06-09T06:43:03.314934Z",
          "shell.execute_reply.started": "2024-06-09T06:43:03.274132Z",
          "shell.execute_reply": "2024-06-09T06:43:03.313745Z"
        },
        "trusted": true,
        "id": "h9Fk6yFcv6R8",
        "colab": {
          "base_uri": "https://localhost:8080/",
          "height": 74
        },
        "outputId": "b84e7b71-8d60-4f1c-fc89-8e4a5eadc883"
      },
      "execution_count": 24,
      "outputs": [
        {
          "output_type": "execute_result",
          "data": {
            "text/plain": [
              "MultinomialNB()"
            ],
            "text/html": [
              "<style>#sk-container-id-1 {color: black;background-color: white;}#sk-container-id-1 pre{padding: 0;}#sk-container-id-1 div.sk-toggleable {background-color: white;}#sk-container-id-1 label.sk-toggleable__label {cursor: pointer;display: block;width: 100%;margin-bottom: 0;padding: 0.3em;box-sizing: border-box;text-align: center;}#sk-container-id-1 label.sk-toggleable__label-arrow:before {content: \"▸\";float: left;margin-right: 0.25em;color: #696969;}#sk-container-id-1 label.sk-toggleable__label-arrow:hover:before {color: black;}#sk-container-id-1 div.sk-estimator:hover label.sk-toggleable__label-arrow:before {color: black;}#sk-container-id-1 div.sk-toggleable__content {max-height: 0;max-width: 0;overflow: hidden;text-align: left;background-color: #f0f8ff;}#sk-container-id-1 div.sk-toggleable__content pre {margin: 0.2em;color: black;border-radius: 0.25em;background-color: #f0f8ff;}#sk-container-id-1 input.sk-toggleable__control:checked~div.sk-toggleable__content {max-height: 200px;max-width: 100%;overflow: auto;}#sk-container-id-1 input.sk-toggleable__control:checked~label.sk-toggleable__label-arrow:before {content: \"▾\";}#sk-container-id-1 div.sk-estimator input.sk-toggleable__control:checked~label.sk-toggleable__label {background-color: #d4ebff;}#sk-container-id-1 div.sk-label input.sk-toggleable__control:checked~label.sk-toggleable__label {background-color: #d4ebff;}#sk-container-id-1 input.sk-hidden--visually {border: 0;clip: rect(1px 1px 1px 1px);clip: rect(1px, 1px, 1px, 1px);height: 1px;margin: -1px;overflow: hidden;padding: 0;position: absolute;width: 1px;}#sk-container-id-1 div.sk-estimator {font-family: monospace;background-color: #f0f8ff;border: 1px dotted black;border-radius: 0.25em;box-sizing: border-box;margin-bottom: 0.5em;}#sk-container-id-1 div.sk-estimator:hover {background-color: #d4ebff;}#sk-container-id-1 div.sk-parallel-item::after {content: \"\";width: 100%;border-bottom: 1px solid gray;flex-grow: 1;}#sk-container-id-1 div.sk-label:hover label.sk-toggleable__label {background-color: #d4ebff;}#sk-container-id-1 div.sk-serial::before {content: \"\";position: absolute;border-left: 1px solid gray;box-sizing: border-box;top: 0;bottom: 0;left: 50%;z-index: 0;}#sk-container-id-1 div.sk-serial {display: flex;flex-direction: column;align-items: center;background-color: white;padding-right: 0.2em;padding-left: 0.2em;position: relative;}#sk-container-id-1 div.sk-item {position: relative;z-index: 1;}#sk-container-id-1 div.sk-parallel {display: flex;align-items: stretch;justify-content: center;background-color: white;position: relative;}#sk-container-id-1 div.sk-item::before, #sk-container-id-1 div.sk-parallel-item::before {content: \"\";position: absolute;border-left: 1px solid gray;box-sizing: border-box;top: 0;bottom: 0;left: 50%;z-index: -1;}#sk-container-id-1 div.sk-parallel-item {display: flex;flex-direction: column;z-index: 1;position: relative;background-color: white;}#sk-container-id-1 div.sk-parallel-item:first-child::after {align-self: flex-end;width: 50%;}#sk-container-id-1 div.sk-parallel-item:last-child::after {align-self: flex-start;width: 50%;}#sk-container-id-1 div.sk-parallel-item:only-child::after {width: 0;}#sk-container-id-1 div.sk-dashed-wrapped {border: 1px dashed gray;margin: 0 0.4em 0.5em 0.4em;box-sizing: border-box;padding-bottom: 0.4em;background-color: white;}#sk-container-id-1 div.sk-label label {font-family: monospace;font-weight: bold;display: inline-block;line-height: 1.2em;}#sk-container-id-1 div.sk-label-container {text-align: center;}#sk-container-id-1 div.sk-container {/* jupyter's `normalize.less` sets `[hidden] { display: none; }` but bootstrap.min.css set `[hidden] { display: none !important; }` so we also need the `!important` here to be able to override the default hidden behavior on the sphinx rendered scikit-learn.org. See: https://github.com/scikit-learn/scikit-learn/issues/21755 */display: inline-block !important;position: relative;}#sk-container-id-1 div.sk-text-repr-fallback {display: none;}</style><div id=\"sk-container-id-1\" class=\"sk-top-container\"><div class=\"sk-text-repr-fallback\"><pre>MultinomialNB()</pre><b>In a Jupyter environment, please rerun this cell to show the HTML representation or trust the notebook. <br />On GitHub, the HTML representation is unable to render, please try loading this page with nbviewer.org.</b></div><div class=\"sk-container\" hidden><div class=\"sk-item\"><div class=\"sk-estimator sk-toggleable\"><input class=\"sk-toggleable__control sk-hidden--visually\" id=\"sk-estimator-id-1\" type=\"checkbox\" checked><label for=\"sk-estimator-id-1\" class=\"sk-toggleable__label sk-toggleable__label-arrow\">MultinomialNB</label><div class=\"sk-toggleable__content\"><pre>MultinomialNB()</pre></div></div></div></div></div>"
            ]
          },
          "metadata": {},
          "execution_count": 24
        }
      ]
    },
    {
      "cell_type": "markdown",
      "source": [
        "### Model prediction"
      ],
      "metadata": {
        "id": "BZ59t7CKv6R8"
      }
    },
    {
      "cell_type": "code",
      "source": [
        "y_pred = model.predict(x_test)\n",
        "y_pred.shape"
      ],
      "metadata": {
        "execution": {
          "iopub.status.busy": "2024-06-09T06:43:03.316584Z",
          "iopub.execute_input": "2024-06-09T06:43:03.317021Z",
          "iopub.status.idle": "2024-06-09T06:43:03.330249Z",
          "shell.execute_reply.started": "2024-06-09T06:43:03.31698Z",
          "shell.execute_reply": "2024-06-09T06:43:03.328915Z"
        },
        "trusted": true,
        "id": "V4kUGzjsv6R9",
        "colab": {
          "base_uri": "https://localhost:8080/"
        },
        "outputId": "6d1c9c9a-d906-4a12-d8ae-628092633ab5"
      },
      "execution_count": 25,
      "outputs": [
        {
          "output_type": "execute_result",
          "data": {
            "text/plain": [
              "(7046,)"
            ]
          },
          "metadata": {},
          "execution_count": 25
        }
      ]
    },
    {
      "cell_type": "code",
      "source": [
        "y_pred"
      ],
      "metadata": {
        "execution": {
          "iopub.status.busy": "2024-06-09T06:43:03.331968Z",
          "iopub.execute_input": "2024-06-09T06:43:03.33246Z",
          "iopub.status.idle": "2024-06-09T06:43:03.340668Z",
          "shell.execute_reply.started": "2024-06-09T06:43:03.332419Z",
          "shell.execute_reply": "2024-06-09T06:43:03.339536Z"
        },
        "trusted": true,
        "id": "9k3aT326v6R9",
        "colab": {
          "base_uri": "https://localhost:8080/"
        },
        "outputId": "251703f2-c9e2-4d5e-f8a4-c133c8ffce82"
      },
      "execution_count": 26,
      "outputs": [
        {
          "output_type": "execute_result",
          "data": {
            "text/plain": [
              "array([1, 2, 5, ..., 4, 3, 1])"
            ]
          },
          "metadata": {},
          "execution_count": 26
        }
      ]
    },
    {
      "cell_type": "markdown",
      "source": [
        "Getting probability of each predicted class"
      ],
      "metadata": {
        "id": "yH1EPJRTv6R9"
      }
    },
    {
      "cell_type": "code",
      "source": [
        "model.predict_proba(x_test)"
      ],
      "metadata": {
        "execution": {
          "iopub.status.busy": "2024-06-09T06:43:03.342302Z",
          "iopub.execute_input": "2024-06-09T06:43:03.342689Z",
          "iopub.status.idle": "2024-06-09T06:43:03.361814Z",
          "shell.execute_reply.started": "2024-06-09T06:43:03.342654Z",
          "shell.execute_reply": "2024-06-09T06:43:03.360438Z"
        },
        "trusted": true,
        "id": "ac_PPDrbv6R9",
        "colab": {
          "base_uri": "https://localhost:8080/"
        },
        "outputId": "2d3f45cf-14c0-4251-9d6b-28bf9e47f60c"
      },
      "execution_count": 27,
      "outputs": [
        {
          "output_type": "execute_result",
          "data": {
            "text/plain": [
              "array([[0.45433767, 0.08215679, 0.44111678, 0.00904855, 0.01334022],\n",
              "       [0.08538546, 0.53197259, 0.36096501, 0.00370374, 0.01797319],\n",
              "       [0.04978519, 0.07954803, 0.11784385, 0.31199241, 0.44083052],\n",
              "       ...,\n",
              "       [0.07871327, 0.0343138 , 0.02156397, 0.8608945 , 0.00451447],\n",
              "       [0.09545745, 0.00239741, 0.84956399, 0.01241549, 0.04016567],\n",
              "       [0.65456291, 0.01868614, 0.14266667, 0.04591333, 0.13817096]])"
            ]
          },
          "metadata": {},
          "execution_count": 27
        }
      ]
    },
    {
      "cell_type": "markdown",
      "source": [
        "### Model evaluation"
      ],
      "metadata": {
        "id": "ksFtqkFiv6R9"
      }
    },
    {
      "cell_type": "code",
      "source": [
        "from sklearn.metrics import confusion_matrix, classification_report\n",
        "\n",
        "print(confusion_matrix(y_test, y_pred))"
      ],
      "metadata": {
        "execution": {
          "iopub.status.busy": "2024-06-09T06:43:03.363185Z",
          "iopub.execute_input": "2024-06-09T06:43:03.363536Z",
          "iopub.status.idle": "2024-06-09T06:43:03.383431Z",
          "shell.execute_reply.started": "2024-06-09T06:43:03.363505Z",
          "shell.execute_reply": "2024-06-09T06:43:03.382153Z"
        },
        "trusted": true,
        "id": "cx-LFYTNv6R9",
        "colab": {
          "base_uri": "https://localhost:8080/"
        },
        "outputId": "874378be-cfe6-437a-f695-20708b330ebb"
      },
      "execution_count": 28,
      "outputs": [
        {
          "output_type": "stream",
          "name": "stdout",
          "text": [
            "[[  65   41   46   37   64]\n",
            " [ 158   75   57   80  100]\n",
            " [ 280  176  138  115  152]\n",
            " [ 539  297  217  201  269]\n",
            " [1237  777  619  533  773]]\n"
          ]
        }
      ]
    },
    {
      "cell_type": "code",
      "source": [
        "print(classification_report(y_test, y_pred))"
      ],
      "metadata": {
        "execution": {
          "iopub.status.busy": "2024-06-09T06:43:03.384859Z",
          "iopub.execute_input": "2024-06-09T06:43:03.385205Z",
          "iopub.status.idle": "2024-06-09T06:43:03.416659Z",
          "shell.execute_reply.started": "2024-06-09T06:43:03.385175Z",
          "shell.execute_reply": "2024-06-09T06:43:03.415251Z"
        },
        "trusted": true,
        "id": "RjSXBZt9v6R9",
        "colab": {
          "base_uri": "https://localhost:8080/"
        },
        "outputId": "43659806-2ce3-4e37-c561-a3b1efd87108"
      },
      "execution_count": 29,
      "outputs": [
        {
          "output_type": "stream",
          "name": "stdout",
          "text": [
            "              precision    recall  f1-score   support\n",
            "\n",
            "           1       0.03      0.26      0.05       253\n",
            "           2       0.05      0.16      0.08       470\n",
            "           3       0.13      0.16      0.14       861\n",
            "           4       0.21      0.13      0.16      1523\n",
            "           5       0.57      0.20      0.29      3939\n",
            "\n",
            "    accuracy                           0.18      7046\n",
            "   macro avg       0.20      0.18      0.15      7046\n",
            "weighted avg       0.38      0.18      0.22      7046\n",
            "\n"
          ]
        }
      ]
    },
    {
      "cell_type": "markdown",
      "source": [
        "### Recategorizing ratings as Poor (0) and Good (1)"
      ],
      "metadata": {
        "id": "--uVG13Qv6R9"
      }
    },
    {
      "cell_type": "code",
      "source": [
        "df[\"Rating\"].value_counts()"
      ],
      "metadata": {
        "execution": {
          "iopub.status.busy": "2024-06-09T06:43:03.418445Z",
          "iopub.execute_input": "2024-06-09T06:43:03.41901Z",
          "iopub.status.idle": "2024-06-09T06:43:03.43081Z",
          "shell.execute_reply.started": "2024-06-09T06:43:03.418972Z",
          "shell.execute_reply": "2024-06-09T06:43:03.429638Z"
        },
        "trusted": true,
        "id": "HBjsoPi_v6R9",
        "colab": {
          "base_uri": "https://localhost:8080/"
        },
        "outputId": "4a581052-cc21-41b8-b852-7b80123b36e6"
      },
      "execution_count": 30,
      "outputs": [
        {
          "output_type": "execute_result",
          "data": {
            "text/plain": [
              "Rating\n",
              "5    13131\n",
              "4     5077\n",
              "3     2871\n",
              "2     1565\n",
              "1      842\n",
              "Name: count, dtype: int64"
            ]
          },
          "metadata": {},
          "execution_count": 30
        }
      ]
    },
    {
      "cell_type": "markdown",
      "source": [
        "re-rating 1,2,3 as 0 and 4,5 as 1"
      ],
      "metadata": {
        "id": "HmExPCjev6R-"
      }
    },
    {
      "cell_type": "code",
      "source": [
        "df.replace({'Rating': { 1:0, 2:0, 3:0, 4:1, 5:1 }}, inplace=True)\n",
        "y = df['Rating']\n",
        "x = df['Review']"
      ],
      "metadata": {
        "execution": {
          "iopub.status.busy": "2024-06-09T06:43:03.43228Z",
          "iopub.execute_input": "2024-06-09T06:43:03.432674Z",
          "iopub.status.idle": "2024-06-09T06:43:03.444521Z",
          "shell.execute_reply.started": "2024-06-09T06:43:03.432627Z",
          "shell.execute_reply": "2024-06-09T06:43:03.443302Z"
        },
        "trusted": true,
        "id": "-rMyxjnVv6R-"
      },
      "execution_count": 31,
      "outputs": []
    },
    {
      "cell_type": "markdown",
      "source": [
        "### Train Test Split"
      ],
      "metadata": {
        "id": "xMY0s4oVv6SB"
      }
    },
    {
      "cell_type": "code",
      "source": [
        "from sklearn.model_selection import train_test_split\n",
        "\n",
        "x_train, x_test, y_train, y_test = train_test_split(x, y, train_size=0.7, stratify=y, random_state=2529)\n",
        "x_train.shape, x_test.shape, y_train.shape, y_test.shape"
      ],
      "metadata": {
        "execution": {
          "iopub.status.busy": "2024-06-09T06:43:03.446209Z",
          "iopub.execute_input": "2024-06-09T06:43:03.446687Z",
          "iopub.status.idle": "2024-06-09T06:43:03.471864Z",
          "shell.execute_reply.started": "2024-06-09T06:43:03.446644Z",
          "shell.execute_reply": "2024-06-09T06:43:03.4707Z"
        },
        "trusted": true,
        "id": "Fk3OscSwv6SB",
        "colab": {
          "base_uri": "https://localhost:8080/"
        },
        "outputId": "4df4980b-26f2-4bd1-e767-c05cb2fcc6c5"
      },
      "execution_count": 32,
      "outputs": [
        {
          "output_type": "execute_result",
          "data": {
            "text/plain": [
              "((16440,), (7046,), (16440,), (7046,))"
            ]
          },
          "metadata": {},
          "execution_count": 32
        }
      ]
    },
    {
      "cell_type": "markdown",
      "source": [
        "### Getting Tokens from Feature Text"
      ],
      "metadata": {
        "id": "ufevat2pv6SC"
      }
    },
    {
      "cell_type": "code",
      "source": [
        "from sklearn.feature_extraction.text import CountVectorizer\n",
        "\n",
        "cv = CountVectorizer(lowercase=True, analyzer='word', ngram_range=(2, 3), stop_words='english', max_features=50000)\n",
        "x_train = cv.fit_transform(x_train)\n",
        "x_test = cv.fit_transform(x_test)"
      ],
      "metadata": {
        "execution": {
          "iopub.status.busy": "2024-06-09T06:43:03.473539Z",
          "iopub.execute_input": "2024-06-09T06:43:03.474472Z",
          "iopub.status.idle": "2024-06-09T06:43:09.438141Z",
          "shell.execute_reply.started": "2024-06-09T06:43:03.474426Z",
          "shell.execute_reply": "2024-06-09T06:43:09.436888Z"
        },
        "trusted": true,
        "id": "kjKGi-Dsv6SC"
      },
      "execution_count": 33,
      "outputs": []
    },
    {
      "cell_type": "markdown",
      "source": [
        "### Model re-training"
      ],
      "metadata": {
        "id": "BRZv7jlzv6SC"
      }
    },
    {
      "cell_type": "code",
      "source": [
        "from sklearn.naive_bayes import MultinomialNB\n",
        "\n",
        "model = MultinomialNB()\n",
        "model.fit(x_train, y_train)"
      ],
      "metadata": {
        "execution": {
          "iopub.status.busy": "2024-06-09T06:43:09.439529Z",
          "iopub.execute_input": "2024-06-09T06:43:09.439909Z",
          "iopub.status.idle": "2024-06-09T06:43:09.459795Z",
          "shell.execute_reply.started": "2024-06-09T06:43:09.439879Z",
          "shell.execute_reply": "2024-06-09T06:43:09.458434Z"
        },
        "trusted": true,
        "id": "o_8XxaTDv6SC",
        "colab": {
          "base_uri": "https://localhost:8080/",
          "height": 74
        },
        "outputId": "c2e189b5-09bd-41c6-913c-0955aed6bafc"
      },
      "execution_count": 34,
      "outputs": [
        {
          "output_type": "execute_result",
          "data": {
            "text/plain": [
              "MultinomialNB()"
            ],
            "text/html": [
              "<style>#sk-container-id-2 {color: black;background-color: white;}#sk-container-id-2 pre{padding: 0;}#sk-container-id-2 div.sk-toggleable {background-color: white;}#sk-container-id-2 label.sk-toggleable__label {cursor: pointer;display: block;width: 100%;margin-bottom: 0;padding: 0.3em;box-sizing: border-box;text-align: center;}#sk-container-id-2 label.sk-toggleable__label-arrow:before {content: \"▸\";float: left;margin-right: 0.25em;color: #696969;}#sk-container-id-2 label.sk-toggleable__label-arrow:hover:before {color: black;}#sk-container-id-2 div.sk-estimator:hover label.sk-toggleable__label-arrow:before {color: black;}#sk-container-id-2 div.sk-toggleable__content {max-height: 0;max-width: 0;overflow: hidden;text-align: left;background-color: #f0f8ff;}#sk-container-id-2 div.sk-toggleable__content pre {margin: 0.2em;color: black;border-radius: 0.25em;background-color: #f0f8ff;}#sk-container-id-2 input.sk-toggleable__control:checked~div.sk-toggleable__content {max-height: 200px;max-width: 100%;overflow: auto;}#sk-container-id-2 input.sk-toggleable__control:checked~label.sk-toggleable__label-arrow:before {content: \"▾\";}#sk-container-id-2 div.sk-estimator input.sk-toggleable__control:checked~label.sk-toggleable__label {background-color: #d4ebff;}#sk-container-id-2 div.sk-label input.sk-toggleable__control:checked~label.sk-toggleable__label {background-color: #d4ebff;}#sk-container-id-2 input.sk-hidden--visually {border: 0;clip: rect(1px 1px 1px 1px);clip: rect(1px, 1px, 1px, 1px);height: 1px;margin: -1px;overflow: hidden;padding: 0;position: absolute;width: 1px;}#sk-container-id-2 div.sk-estimator {font-family: monospace;background-color: #f0f8ff;border: 1px dotted black;border-radius: 0.25em;box-sizing: border-box;margin-bottom: 0.5em;}#sk-container-id-2 div.sk-estimator:hover {background-color: #d4ebff;}#sk-container-id-2 div.sk-parallel-item::after {content: \"\";width: 100%;border-bottom: 1px solid gray;flex-grow: 1;}#sk-container-id-2 div.sk-label:hover label.sk-toggleable__label {background-color: #d4ebff;}#sk-container-id-2 div.sk-serial::before {content: \"\";position: absolute;border-left: 1px solid gray;box-sizing: border-box;top: 0;bottom: 0;left: 50%;z-index: 0;}#sk-container-id-2 div.sk-serial {display: flex;flex-direction: column;align-items: center;background-color: white;padding-right: 0.2em;padding-left: 0.2em;position: relative;}#sk-container-id-2 div.sk-item {position: relative;z-index: 1;}#sk-container-id-2 div.sk-parallel {display: flex;align-items: stretch;justify-content: center;background-color: white;position: relative;}#sk-container-id-2 div.sk-item::before, #sk-container-id-2 div.sk-parallel-item::before {content: \"\";position: absolute;border-left: 1px solid gray;box-sizing: border-box;top: 0;bottom: 0;left: 50%;z-index: -1;}#sk-container-id-2 div.sk-parallel-item {display: flex;flex-direction: column;z-index: 1;position: relative;background-color: white;}#sk-container-id-2 div.sk-parallel-item:first-child::after {align-self: flex-end;width: 50%;}#sk-container-id-2 div.sk-parallel-item:last-child::after {align-self: flex-start;width: 50%;}#sk-container-id-2 div.sk-parallel-item:only-child::after {width: 0;}#sk-container-id-2 div.sk-dashed-wrapped {border: 1px dashed gray;margin: 0 0.4em 0.5em 0.4em;box-sizing: border-box;padding-bottom: 0.4em;background-color: white;}#sk-container-id-2 div.sk-label label {font-family: monospace;font-weight: bold;display: inline-block;line-height: 1.2em;}#sk-container-id-2 div.sk-label-container {text-align: center;}#sk-container-id-2 div.sk-container {/* jupyter's `normalize.less` sets `[hidden] { display: none; }` but bootstrap.min.css set `[hidden] { display: none !important; }` so we also need the `!important` here to be able to override the default hidden behavior on the sphinx rendered scikit-learn.org. See: https://github.com/scikit-learn/scikit-learn/issues/21755 */display: inline-block !important;position: relative;}#sk-container-id-2 div.sk-text-repr-fallback {display: none;}</style><div id=\"sk-container-id-2\" class=\"sk-top-container\"><div class=\"sk-text-repr-fallback\"><pre>MultinomialNB()</pre><b>In a Jupyter environment, please rerun this cell to show the HTML representation or trust the notebook. <br />On GitHub, the HTML representation is unable to render, please try loading this page with nbviewer.org.</b></div><div class=\"sk-container\" hidden><div class=\"sk-item\"><div class=\"sk-estimator sk-toggleable\"><input class=\"sk-toggleable__control sk-hidden--visually\" id=\"sk-estimator-id-2\" type=\"checkbox\" checked><label for=\"sk-estimator-id-2\" class=\"sk-toggleable__label sk-toggleable__label-arrow\">MultinomialNB</label><div class=\"sk-toggleable__content\"><pre>MultinomialNB()</pre></div></div></div></div></div>"
            ]
          },
          "metadata": {},
          "execution_count": 34
        }
      ]
    },
    {
      "cell_type": "markdown",
      "source": [
        "### Model prediction"
      ],
      "metadata": {
        "id": "zAIVDKxVv6SC"
      }
    },
    {
      "cell_type": "code",
      "source": [
        "y_pred = model.predict(x_test)\n",
        "y_pred.shape"
      ],
      "metadata": {
        "execution": {
          "iopub.status.busy": "2024-06-09T06:43:09.461647Z",
          "iopub.execute_input": "2024-06-09T06:43:09.461983Z",
          "iopub.status.idle": "2024-06-09T06:43:09.47155Z",
          "shell.execute_reply.started": "2024-06-09T06:43:09.461955Z",
          "shell.execute_reply": "2024-06-09T06:43:09.470226Z"
        },
        "trusted": true,
        "id": "bjTrjqD4v6SC",
        "colab": {
          "base_uri": "https://localhost:8080/"
        },
        "outputId": "c12faad8-3621-490c-e6fe-7fb50cebdad7"
      },
      "execution_count": 35,
      "outputs": [
        {
          "output_type": "execute_result",
          "data": {
            "text/plain": [
              "(7046,)"
            ]
          },
          "metadata": {},
          "execution_count": 35
        }
      ]
    },
    {
      "cell_type": "code",
      "source": [
        "y_pred"
      ],
      "metadata": {
        "execution": {
          "iopub.status.busy": "2024-06-09T06:43:09.477108Z",
          "iopub.execute_input": "2024-06-09T06:43:09.478088Z",
          "iopub.status.idle": "2024-06-09T06:43:09.484786Z",
          "shell.execute_reply.started": "2024-06-09T06:43:09.478052Z",
          "shell.execute_reply": "2024-06-09T06:43:09.483624Z"
        },
        "trusted": true,
        "id": "fafgoVDgv6SC",
        "colab": {
          "base_uri": "https://localhost:8080/"
        },
        "outputId": "9e01293c-a969-4baa-c9be-36276132c1fe"
      },
      "execution_count": 36,
      "outputs": [
        {
          "output_type": "execute_result",
          "data": {
            "text/plain": [
              "array([0, 0, 1, ..., 1, 1, 1])"
            ]
          },
          "metadata": {},
          "execution_count": 36
        }
      ]
    },
    {
      "cell_type": "markdown",
      "source": [
        "### Model evaluation"
      ],
      "metadata": {
        "id": "yk7cOZEyv6SC"
      }
    },
    {
      "cell_type": "code",
      "source": [
        "from sklearn.metrics import confusion_matrix, classification_report\n",
        "\n",
        "print(confusion_matrix(y_test, y_pred))"
      ],
      "metadata": {
        "execution": {
          "iopub.status.busy": "2024-06-09T06:43:09.486308Z",
          "iopub.execute_input": "2024-06-09T06:43:09.486705Z",
          "iopub.status.idle": "2024-06-09T06:43:09.50718Z",
          "shell.execute_reply.started": "2024-06-09T06:43:09.486663Z",
          "shell.execute_reply": "2024-06-09T06:43:09.505806Z"
        },
        "trusted": true,
        "id": "7l_uPlsOv6SC",
        "colab": {
          "base_uri": "https://localhost:8080/"
        },
        "outputId": "52add13f-1862-40c3-f51f-cdcf08a953a0"
      },
      "execution_count": 37,
      "outputs": [
        {
          "output_type": "stream",
          "name": "stdout",
          "text": [
            "[[ 712  871]\n",
            " [2643 2820]]\n"
          ]
        }
      ]
    },
    {
      "cell_type": "code",
      "source": [
        "print(classification_report(y_test, y_pred))"
      ],
      "metadata": {
        "execution": {
          "iopub.status.busy": "2024-06-09T06:43:09.508663Z",
          "iopub.execute_input": "2024-06-09T06:43:09.509018Z",
          "iopub.status.idle": "2024-06-09T06:43:09.539414Z",
          "shell.execute_reply.started": "2024-06-09T06:43:09.508987Z",
          "shell.execute_reply": "2024-06-09T06:43:09.538219Z"
        },
        "trusted": true,
        "id": "8z03cD8Av6SC",
        "colab": {
          "base_uri": "https://localhost:8080/"
        },
        "outputId": "b456d8a9-0eaa-4b35-999b-b15d836b588e"
      },
      "execution_count": 38,
      "outputs": [
        {
          "output_type": "stream",
          "name": "stdout",
          "text": [
            "              precision    recall  f1-score   support\n",
            "\n",
            "           0       0.21      0.45      0.29      1583\n",
            "           1       0.76      0.52      0.62      5463\n",
            "\n",
            "    accuracy                           0.50      7046\n",
            "   macro avg       0.49      0.48      0.45      7046\n",
            "weighted avg       0.64      0.50      0.54      7046\n",
            "\n"
          ]
        }
      ]
    },
    {
      "cell_type": "markdown",
      "source": [
        "### Explanation\n",
        "\n",
        "This project is focused on building a prediction model. At first, the all required libraries and a test dataset are imported. The dataset was evaluated and pre processed to prepare for it for processing, then a portion of it was kept for testing and the rest was used to train the model. The model was used to get some prediction dataset. Finally, prediction accuracy was checked against the test dataset, some adjusment were made and the model was re-trained for better accuracy."
      ],
      "metadata": {
        "id": "OqKuZptPv6SD"
      }
    }
  ]
}